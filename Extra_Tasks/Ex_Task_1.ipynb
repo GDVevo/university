{
  "nbformat": 4,
  "nbformat_minor": 0,
  "metadata": {
    "colab": {
      "provenance": [],
      "authorship_tag": "ABX9TyM/L3qT731yFhEKK/My4gMJ",
      "include_colab_link": true
    },
    "kernelspec": {
      "name": "python3",
      "display_name": "Python 3"
    },
    "language_info": {
      "name": "python"
    }
  },
  "cells": [
    {
      "cell_type": "markdown",
      "metadata": {
        "id": "view-in-github",
        "colab_type": "text"
      },
      "source": [
        "<a href=\"https://colab.research.google.com/github/GDVevo/university/blob/main/Extra_Tasks/Ex_Task_1.ipynb\" target=\"_parent\"><img src=\"https://colab.research.google.com/assets/colab-badge.svg\" alt=\"Open In Colab\"/></a>"
      ]
    },
    {
      "cell_type": "code",
      "execution_count": 10,
      "metadata": {
        "colab": {
          "base_uri": "https://localhost:8080/"
        },
        "id": "gJd272jPJZjF",
        "outputId": "749cbdb7-9910-48d6-dd69-cd5bf9e08716"
      },
      "outputs": [
        {
          "output_type": "stream",
          "name": "stdout",
          "text": [
            "Загаданное число (71)\n",
            "Введите число: 1\n",
            "Загаданное число больше, чем введённое\n",
            "Введите число: hello world\n",
            "Ввод не является числом, попробуйте ещё раз!\n",
            "Введите число: 42\n",
            "Загаданное число больше, чем введённое\n",
            "Введите число: 90\n",
            "Загаданное число меньше, чем введённое\n",
            "Введите число: 71\n",
            "Вы выиграли аааавтомобиль за 4 попытки!\n"
          ]
        }
      ],
      "source": [
        "import random\n",
        "count = 0\n",
        "answer = random.randint(1, 100)\n",
        "print(f'Загаданное число ({answer})')\n",
        "while True:\n",
        "    us_answer = input('Введите число: ')\n",
        "    if us_answer.lower() == 'выход':\n",
        "      break\n",
        "    elif not us_answer.isdigit():\n",
        "      print('Ввод не является числом, попробуйте ещё раз!')\n",
        "      continue\n",
        "    count += 1\n",
        "    us_answer = int(us_answer)\n",
        "    if us_answer == answer:\n",
        "        if count % 10 == 1 and count != 11:\n",
        "          print(f'Вы выиграли аааавтомобиль за {count} попытку!')\n",
        "        elif count % 10 < 5 and (count % 100) // 10 != 1:\n",
        "          print(f'Вы выиграли аааавтомобиль за {count} попытки!')\n",
        "        else:\n",
        "          print(f'Вы выиграли аааавтомобиль за {count} попыток!')\n",
        "        break\n",
        "    elif us_answer < answer:\n",
        "      print('Загаданное число больше, чем введённое')\n",
        "    else:\n",
        "      print('Загаданное число меньше, чем введённое')"
      ]
    }
  ]
}