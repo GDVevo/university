{
  "nbformat": 4,
  "nbformat_minor": 0,
  "metadata": {
    "colab": {
      "provenance": [],
      "authorship_tag": "ABX9TyPoBoDZLD1lkeLMQm+mGc31",
      "include_colab_link": true
    },
    "kernelspec": {
      "name": "python3",
      "display_name": "Python 3"
    },
    "language_info": {
      "name": "python"
    }
  },
  "cells": [
    {
      "cell_type": "markdown",
      "metadata": {
        "id": "view-in-github",
        "colab_type": "text"
      },
      "source": [
        "<a href=\"https://colab.research.google.com/github/GDVevo/university/blob/main/Extra_Tasks/Ex_Task_2.ipynb\" target=\"_parent\"><img src=\"https://colab.research.google.com/assets/colab-badge.svg\" alt=\"Open In Colab\"/></a>"
      ]
    },
    {
      "cell_type": "code",
      "execution_count": 49,
      "metadata": {
        "colab": {
          "base_uri": "https://localhost:8080/"
        },
        "id": "gJd272jPJZjF",
        "outputId": "3f9a367d-f33f-4a95-a885-cba2605a7659"
      },
      "outputs": [
        {
          "output_type": "stream",
          "name": "stdout",
          "text": [
            "Выберите функцию:\n",
            "\n",
            "1. Добавить контакт\n",
            "2. Удалить контакт\n",
            "3. Показать список контактов\n",
            "4. Изменить номер\n",
            "5. Выход\n",
            "Введите номер функции: 1\n",
            "Введите название для контакта: 42\n",
            "Введите номер телефона: +71\n",
            "Неправильно введён номер! Вводите в форме +7хххххххххх (без +7)\n",
            "Введите номер телефона: +7щ\n",
            "Неправильно введён номер! Вводите в форме +7хххххххххх (без +7)\n",
            "Введите номер телефона: +71234567890\n",
            "Контакт добавлен\n",
            "Введите номер функции: 1\n",
            "Введите название для контакта: леНа ИВАноВНА\n",
            "Введите номер телефона: +79000000000\n",
            "Контакт добавлен\n",
            "Введите номер функции: 3\n",
            "Список контактов\n",
            "42 +71234567890\n",
            "Лена Ивановна +79000000000\n",
            "Введите номер функции: 2\n",
            "Введите название контакта: 1\n",
            "Контакт не найден! Попробуйте ещё раз или введите -1 для ввода другой функции\n",
            "Введите название контакта: 42\n",
            "Контакт удалён\n",
            "Введите номер функции: 2\n",
            "Введите название контакта: -1\n",
            "Введите номер функции: 4\n",
            "Введите название контакта: ленА ИВАНоВНА\n",
            "Введите номер телефона: +71\n",
            "Неправильно введён номер! Вводите в форме +7хххххххххх (без +7)\n",
            "Введите номер телефона: +71234567890\n",
            "Контакт изменён\n",
            "Введите номер функции: 3\n",
            "Список контактов\n",
            "Лена Ивановна +71234567890\n",
            "Введите номер функции: 5\n",
            "До свидания!\n"
          ]
        }
      ],
      "source": [
        "cont_list = {}\n",
        "while True:\n",
        "  print('Выберите функцию:\\n\\n1. Добавить контакт\\n2. Удалить контакт\\n3. Показать список контактов\\n4. Изменить номер\\n5. Выход')\n",
        "  while True:\n",
        "    f_num = input('Введите номер функции: ')\n",
        "\n",
        "    if f_num == '1':\n",
        "      name = input('Введите название для контакта: ').title()\n",
        "      while True:\n",
        "        numb = input('Введите номер телефона: +7')\n",
        "        if numb.isdigit() and len(numb) == 10:\n",
        "          cont_list[name] = '+7' + numb\n",
        "          print('Контакт добавлен')\n",
        "          break\n",
        "        else:\n",
        "          print('Неправильно введён номер! Вводите в форме +7хххххххххх (без +7)')\n",
        "\n",
        "    elif f_num == '2':\n",
        "      while True:\n",
        "        inp = input('Введите название контакта: ')\n",
        "        if inp in cont_list:\n",
        "          cont_list.pop(inp)\n",
        "          print('Контакт удалён')\n",
        "          break\n",
        "        elif inp == '-1':\n",
        "          break\n",
        "        else:\n",
        "          print('Контакт не найден! Попробуйте ещё раз или введите -1 для ввода другой функции')\n",
        "\n",
        "    elif f_num == '3':\n",
        "      print('Список контактов')\n",
        "      for i in sorted(list(cont_list.items())):\n",
        "        print(i[0], i[1])\n",
        "\n",
        "    elif f_num == '4':\n",
        "      while True:\n",
        "        name = input('Введите название контакта: ').title()\n",
        "        if name in cont_list:\n",
        "          while True:\n",
        "            numb = input('Введите номер телефона: +7')\n",
        "            if numb.isdigit() and len(numb) == 10:\n",
        "              cont_list[name] = '+7' + numb\n",
        "              print('Контакт изменён')\n",
        "              break\n",
        "            else:\n",
        "              print('Неправильно введён номер! Вводите в форме +7хххххххххх (без +7)')\n",
        "        elif name == '-1':\n",
        "          break\n",
        "        else:\n",
        "          print('Контакт не найден! Попробуйте ещё раз или введите -1 для ввода другой функции')\n",
        "        break\n",
        "\n",
        "    elif f_num == '5':\n",
        "      print('До свидания!')\n",
        "      break\n",
        "\n",
        "    else:\n",
        "      print('Введена некорректная функция! Введите ещё раз')\n",
        "  break"
      ]
    }
  ]
}