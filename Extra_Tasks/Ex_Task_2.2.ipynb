{
  "nbformat": 4,
  "nbformat_minor": 0,
  "metadata": {
    "colab": {
      "provenance": [],
      "include_colab_link": true
    },
    "kernelspec": {
      "name": "python3",
      "display_name": "Python 3"
    },
    "language_info": {
      "name": "python"
    }
  },
  "cells": [
    {
      "cell_type": "markdown",
      "metadata": {
        "id": "view-in-github",
        "colab_type": "text"
      },
      "source": [
        "<a href=\"https://colab.research.google.com/github/GDVevo/university/blob/main/Extra_Tasks/Ex_Task_2.2.ipynb\" target=\"_parent\"><img src=\"https://colab.research.google.com/assets/colab-badge.svg\" alt=\"Open In Colab\"/></a>"
      ]
    },
    {
      "cell_type": "markdown",
      "source": [
        "# **Дополнительное задание №2.2. Замыкания. Декораторы. Итераторы. Генераторы**"
      ],
      "metadata": {
        "id": "AFKOdzjAKWYc"
      }
    },
    {
      "cell_type": "markdown",
      "source": [
        "**БАЗА:**\n",
        "\n",
        "- **Замыкания** позволяют создавать функции с сохраняющимся состоянием. Это полезно для создания фабричных функций и функций с настраиваемым поведением.\n",
        "- **Декораторы** позволяют модифицировать или расширять поведение функций без изменения их исходного кода."
      ],
      "metadata": {
        "id": "nBwTqfsSyaGg"
      }
    },
    {
      "cell_type": "markdown",
      "source": [
        "---"
      ],
      "metadata": {
        "id": "2VnR8e3twGfD"
      }
    },
    {
      "cell_type": "markdown",
      "source": [
        "## **I. Замыкания и декораторы**"
      ],
      "metadata": {
        "id": "_ZPLUks08b1-"
      }
    },
    {
      "cell_type": "markdown",
      "metadata": {
        "id": "eVsLMeozyshu"
      },
      "source": [
        "### **Пункт №1**\n",
        "\n",
        "Напишите две функции создания списка из чётных чисел от 0 до N (N – аргумент функции): \\([0, 2, 4, ..., N]\\).\n",
        "\n",
        "- **Первая функция** должна использовать метод `append` для добавления элементов в список.\n",
        "- **Вторая функция** должна использовать **генератор списков** (list comprehensions) для создания списка.\n",
        "\n",
        "После этого, через **декоратор**, определите время работы этих функций."
      ]
    },
    {
      "cell_type": "code",
      "source": [
        "# Ваш код\n",
        "import time\n",
        "\n",
        "def testTime(fn) -> str:\n",
        "  '''\n",
        "  Возвращает время работы входной функции\n",
        "  fn - входная функция\n",
        "  '''\n",
        "  def wrapper(*args):\n",
        "    st = time.time()\n",
        "    fn(*args)\n",
        "    dt = time.time() - st\n",
        "    print(f\"Время работы: {dt} сек\")\n",
        "  return wrapper\n",
        "\n",
        "\n",
        "def list_even_nums_1(N: int) -> list:\n",
        "  '''\n",
        "  Возвращает список четных чисел с помощью .append()\n",
        "  N - конечное число, до которого будет считаться список\n",
        "  '''\n",
        "  lst = []\n",
        "  for i in range(N):\n",
        "    if i % 2 == 0:\n",
        "      lst.append(i)\n",
        "  return lst\n",
        "\n",
        "\n",
        "def list_even_nums_2(N: int) -> list:\n",
        "  '''\n",
        "  Возвращает список четных чисел с помощью генератора\n",
        "  N - конечное число, до которого будет считаться список\n",
        "  '''\n",
        "  return [i%2 == 0 for i in range(N)]\n",
        "\n",
        "\n",
        "test1 = testTime(list_even_nums_1)\n",
        "test2 = testTime(list_even_nums_2)\n",
        "test1(10)\n",
        "test2(10)"
      ],
      "metadata": {
        "id": "04AwDHUyZe6F",
        "outputId": "0c142f7d-d1e7-4960-888f-024cbc69b469",
        "colab": {
          "base_uri": "https://localhost:8080/"
        }
      },
      "execution_count": null,
      "outputs": [
        {
          "output_type": "stream",
          "name": "stdout",
          "text": [
            "Время работы: 3.814697265625e-06 сек\n",
            "Время работы: 3.337860107421875e-06 сек\n"
          ]
        }
      ]
    },
    {
      "cell_type": "markdown",
      "source": [
        "---"
      ],
      "metadata": {
        "id": "_0Jy4QhEwGDd"
      }
    },
    {
      "cell_type": "markdown",
      "source": [
        "### **Пункт №2**\n",
        "\n",
        "Напишите **декоратор** для кэширования результатов работы функции, вычисляющей значение n-го числа [**ряда Фибоначчи**](https://ru.wikipedia.org/wiki/Числа_Фибоначчи).\n",
        "\n",
        "То есть, при повторном вызове функции через декоратор уже имеющийся результат должен браться из кэша, а не вычисляться заново.\n",
        "\n",
        "**Например:**\n",
        "\n",
        "- При значении параметра `n = 5`, должна кэшироваться последовательность \\([0, 1, 1, 2, 3, 5]\\).\n",
        "- Вызывая после этого целевую функцию через декоратор ещё раз с `n = 3`, результат \\([0, 1, 1, 2]\\) должен браться из кэша.\n",
        "- Если последующее значение `n` больше предыдущего, например `n = 10`, вычисление должно продолжаться, начиная с закэшированной последовательности.\n",
        "\n",
        "*Подсказка: используйте **замыкание** для хранения кэша внутри декоратора.*\n"
      ],
      "metadata": {
        "id": "DfDtOSmDl7ic"
      }
    },
    {
      "cell_type": "code",
      "source": [
        "# Ваш код\n",
        "def cache_results(fn)->list:\n",
        "  '''\n",
        "  Декоратор для кэширования результатов входной функции\n",
        "  fn - входная функция\n",
        "  '''\n",
        "  cached = []\n",
        "  def cache(n:int)-> list:\n",
        "    '''\n",
        "    Кэширует список результатов в функции fibonacci_count\n",
        "    n - индекс числа, до которого считатется последовательность\n",
        "    '''\n",
        "    # for i in fn(n):\n",
        "    #   if i in cached and len(cached) > 3:\n",
        "    #     print('inside! ', cached)\n",
        "    #     break\n",
        "    #   cached.append(i)\n",
        "    #   print('cached! ', cached)\n",
        "    cached_copy = cached.copy()\n",
        "    if n > len(cached_copy):\n",
        "      print(n, len(cached), 'AAAAA')\n",
        "      cached_copy = fn(n)\n",
        "    else:\n",
        "      return cached[:n+1]\n",
        "    cached = cached_copy.copy()\n",
        "    return cached\n",
        "  return cache\n",
        "\n",
        "\n",
        "def fibonacci_count(n:int)->list:\n",
        "  '''\n",
        "  Считает последовательность Фибоначчи до n цифры в последовательности\n",
        "  n - индекс числа, до которого считатется последовательность\n",
        "  '''\n",
        "  if n == 0:\n",
        "    return [0]\n",
        "  elif n == 1:\n",
        "    return [0, 1]\n",
        "  fin = [0, 1]\n",
        "  sum = 1\n",
        "  for i in range(2, n):\n",
        "    fin.append(fin[len(fin)-2] + fin[len(fin)-1])\n",
        "  return(fin)\n",
        "\n",
        "\n",
        "fib = cache_results(fibonacci_count)\n",
        "print(fib(5))\n",
        "print(fib(6))\n",
        "print(fib(3))\n",
        "print(fib(22))\n",
        "print(fib(100))"
      ],
      "metadata": {
        "id": "CtbbsIBsZfHB",
        "outputId": "62f6aa3c-c587-4de1-977c-70ec47efb5f5",
        "colab": {
          "base_uri": "https://localhost:8080/",
          "height": 332
        }
      },
      "execution_count": 52,
      "outputs": [
        {
          "output_type": "error",
          "ename": "UnboundLocalError",
          "evalue": "local variable 'cached' referenced before assignment",
          "traceback": [
            "\u001b[0;31m---------------------------------------------------------------------------\u001b[0m",
            "\u001b[0;31mUnboundLocalError\u001b[0m                         Traceback (most recent call last)",
            "\u001b[0;32m<ipython-input-52-ddfe8a10dad3>\u001b[0m in \u001b[0;36m<cell line: 47>\u001b[0;34m()\u001b[0m\n\u001b[1;32m     45\u001b[0m \u001b[0;34m\u001b[0m\u001b[0m\n\u001b[1;32m     46\u001b[0m \u001b[0mfib\u001b[0m \u001b[0;34m=\u001b[0m \u001b[0mcache_results\u001b[0m\u001b[0;34m(\u001b[0m\u001b[0mfibonacci_count\u001b[0m\u001b[0;34m)\u001b[0m\u001b[0;34m\u001b[0m\u001b[0;34m\u001b[0m\u001b[0m\n\u001b[0;32m---> 47\u001b[0;31m \u001b[0mprint\u001b[0m\u001b[0;34m(\u001b[0m\u001b[0mfib\u001b[0m\u001b[0;34m(\u001b[0m\u001b[0;36m5\u001b[0m\u001b[0;34m)\u001b[0m\u001b[0;34m)\u001b[0m\u001b[0;34m\u001b[0m\u001b[0;34m\u001b[0m\u001b[0m\n\u001b[0m\u001b[1;32m     48\u001b[0m \u001b[0mprint\u001b[0m\u001b[0;34m(\u001b[0m\u001b[0mfib\u001b[0m\u001b[0;34m(\u001b[0m\u001b[0;36m6\u001b[0m\u001b[0;34m)\u001b[0m\u001b[0;34m)\u001b[0m\u001b[0;34m\u001b[0m\u001b[0;34m\u001b[0m\u001b[0m\n\u001b[1;32m     49\u001b[0m \u001b[0mprint\u001b[0m\u001b[0;34m(\u001b[0m\u001b[0mfib\u001b[0m\u001b[0;34m(\u001b[0m\u001b[0;36m3\u001b[0m\u001b[0;34m)\u001b[0m\u001b[0;34m)\u001b[0m\u001b[0;34m\u001b[0m\u001b[0;34m\u001b[0m\u001b[0m\n",
            "\u001b[0;32m<ipython-input-52-ddfe8a10dad3>\u001b[0m in \u001b[0;36mcache\u001b[0;34m(n)\u001b[0m\n\u001b[1;32m     17\u001b[0m     \u001b[0;31m#   cached.append(i)\u001b[0m\u001b[0;34m\u001b[0m\u001b[0;34m\u001b[0m\u001b[0m\n\u001b[1;32m     18\u001b[0m     \u001b[0;31m#   print('cached! ', cached)\u001b[0m\u001b[0;34m\u001b[0m\u001b[0;34m\u001b[0m\u001b[0m\n\u001b[0;32m---> 19\u001b[0;31m     \u001b[0mcached_copy\u001b[0m \u001b[0;34m=\u001b[0m \u001b[0mcached\u001b[0m\u001b[0;34m.\u001b[0m\u001b[0mcopy\u001b[0m\u001b[0;34m(\u001b[0m\u001b[0;34m)\u001b[0m\u001b[0;34m\u001b[0m\u001b[0;34m\u001b[0m\u001b[0m\n\u001b[0m\u001b[1;32m     20\u001b[0m     \u001b[0;32mif\u001b[0m \u001b[0mn\u001b[0m \u001b[0;34m>\u001b[0m \u001b[0mlen\u001b[0m\u001b[0;34m(\u001b[0m\u001b[0mcached_copy\u001b[0m\u001b[0;34m)\u001b[0m\u001b[0;34m:\u001b[0m\u001b[0;34m\u001b[0m\u001b[0;34m\u001b[0m\u001b[0m\n\u001b[1;32m     21\u001b[0m       \u001b[0mprint\u001b[0m\u001b[0;34m(\u001b[0m\u001b[0mn\u001b[0m\u001b[0;34m,\u001b[0m \u001b[0mlen\u001b[0m\u001b[0;34m(\u001b[0m\u001b[0mcached\u001b[0m\u001b[0;34m)\u001b[0m\u001b[0;34m,\u001b[0m \u001b[0;34m'AAAAA'\u001b[0m\u001b[0;34m)\u001b[0m\u001b[0;34m\u001b[0m\u001b[0;34m\u001b[0m\u001b[0m\n",
            "\u001b[0;31mUnboundLocalError\u001b[0m: local variable 'cached' referenced before assignment"
          ]
        }
      ]
    },
    {
      "cell_type": "markdown",
      "source": [
        "---"
      ],
      "metadata": {
        "id": "CIiq8lr7wFkS"
      }
    },
    {
      "cell_type": "markdown",
      "source": [
        "### **Пункт №3**\n",
        "\n",
        "Примените к функции из задания №2 сразу **два декоратора**:\n",
        "\n",
        "1. **Декоратор**, определяющий время выполнения функции.\n",
        "2. **Кэширующий декоратор** (из задания №2).\n",
        "\n",
        "Сравните время работы функции с использованием кэширования и без него.\n"
      ],
      "metadata": {
        "id": "zY5zVHuifDve"
      }
    },
    {
      "cell_type": "code",
      "source": [
        "# Ваш код"
      ],
      "metadata": {
        "id": "dXuu8LJgg-0r"
      },
      "execution_count": null,
      "outputs": []
    },
    {
      "cell_type": "markdown",
      "source": [
        "---"
      ],
      "metadata": {
        "id": "fsSegPodwEwZ"
      }
    },
    {
      "cell_type": "markdown",
      "source": [
        "### **Пункт №4**\n",
        "\n",
        "Создайте функцию **make_multiplier(n)**, которая принимает число **n** и возвращает функцию, умножающую переданное ей число на **n**.\n",
        "\n",
        "**Пример использования:**\n",
        "\n",
        "```python\n",
        "def make_multiplier(n):\n",
        "    # Ваш код\n",
        "\n",
        "times3 = make_multiplier(3)\n",
        "print(times3(5))  # Вывод: 15\n",
        "```"
      ],
      "metadata": {
        "id": "Ap04UA6ZtoK1"
      }
    },
    {
      "cell_type": "code",
      "source": [
        "# Ваш код\n",
        "def make_multiplier(n:int)->int:\n",
        "  '''\n",
        "  Принимает число n и возвращает функцию, умножающую переданное ей число на n\n",
        "  n - входное число\n",
        "  '''\n",
        "  def number(k:int)->int:\n",
        "    '''\n",
        "    Умножает вводимое число k на n\n",
        "    k - входное число\n",
        "    '''\n",
        "    return k*n\n",
        "  return number\n",
        "\n",
        "\n",
        "test_num = make_multiplier(3)\n",
        "print(test_num(5))\n",
        "print(test_num(4))"
      ],
      "metadata": {
        "id": "HasdSjestowl",
        "outputId": "bf6a74ff-e9e2-4f31-8592-d531f1398bad",
        "colab": {
          "base_uri": "https://localhost:8080/"
        }
      },
      "execution_count": null,
      "outputs": [
        {
          "output_type": "stream",
          "name": "stdout",
          "text": [
            "15\n",
            "12\n"
          ]
        }
      ]
    },
    {
      "cell_type": "markdown",
      "source": [
        "---"
      ],
      "metadata": {
        "id": "MIPkER_LwD_0"
      }
    },
    {
      "cell_type": "markdown",
      "source": [
        "### **Пункт №5**\n",
        "\n",
        "Реализуйте функцию с замыканием, которая настраивает округление чисел до заданного количества знаков после запятой.\n",
        "\n",
        "**Пример:**\n",
        "\n",
        "```python\n",
        "def rounder(n):\n",
        "    # Ваш код\n",
        "\n",
        "round_to_2 = rounder(2)\n",
        "print(round_to_2(3.14159))  # Вывод: 3.14\n",
        "```\n"
      ],
      "metadata": {
        "id": "mTwh5dIqto8N"
      }
    },
    {
      "cell_type": "code",
      "source": [
        "# Ваш код\n",
        "def rounder(n:int)->float:\n",
        "  '''\n",
        "  Округляет число до заданного кол-ва знаков после запятой\n",
        "  n - число, определяющее до какого знака будет округляться число\n",
        "  '''\n",
        "  def round_num(num:float)->float:\n",
        "    '''\n",
        "    Функция для ввода числа, которое будет округлено\n",
        "    num - число с n кол-вом знаков после запятой\n",
        "    '''\n",
        "    return round(num, n)\n",
        "  return round_num\n",
        "\n",
        "\n",
        "round_to_2 = rounder(2)\n",
        "print(round_to_2(3.14159))\n",
        "print(round_to_2(6.4159))"
      ],
      "metadata": {
        "id": "zjlE-viztpDo",
        "outputId": "1532512f-a537-4a79-e20a-46a57bcae808",
        "colab": {
          "base_uri": "https://localhost:8080/"
        }
      },
      "execution_count": null,
      "outputs": [
        {
          "output_type": "stream",
          "name": "stdout",
          "text": [
            "3.14\n",
            "6.42\n"
          ]
        }
      ]
    },
    {
      "cell_type": "markdown",
      "source": [
        "---"
      ],
      "metadata": {
        "id": "6u2MeXBiwAyf"
      }
    },
    {
      "cell_type": "markdown",
      "source": [
        "### **Пункт №6**\n",
        "\n",
        "Напишите **декоратор**, который измеряет время исполнения функции и выводит его на экран, только если время превышает определённый порог.\n",
        "\n",
        "**Пример:**\n",
        "\n",
        "```python\n",
        "@time_threshold(threshold=0.5)\n",
        "def long_running_function():\n",
        "    # Долгий код\n",
        "\n",
        "long_running_function()\n",
        "# Выводится время выполнения только если оно больше 0.5 секунд\n",
        "```"
      ],
      "metadata": {
        "id": "i5A4zQl5tpKJ"
      }
    },
    {
      "cell_type": "code",
      "source": [
        "# Ваш код\n",
        "import time\n",
        "from typing import Union\n",
        "\n",
        "def time_threshold(threshold:Union[int, float]=0.5)-> str:\n",
        "  '''\n",
        "  Определяет макс. время выполнения функции, после которой будет выводиться время работы\n",
        "  threshold - числовое значение предела выполнения функции\n",
        "  '''\n",
        "  def decor(fn) -> str:\n",
        "    '''\n",
        "    Возвращает время работы входной функции\n",
        "    fn - входная функция\n",
        "    '''\n",
        "    def wrapper(*args):\n",
        "      st = time.time()\n",
        "      fn(*args)\n",
        "      dt = time.time() - st\n",
        "      if dt > threshold:\n",
        "        print(f\"Время работы: {dt} сек.\")\n",
        "    return wrapper\n",
        "  return decor\n",
        "\n",
        "@time_threshold(threshold=0.5) # со значением (например) 5.5 не выводит время работы\n",
        "def long_running_function()->str:\n",
        "  '''\n",
        "  Функция, ждущая пять секунд, после чего выводит строку end\n",
        "  '''\n",
        "  time.sleep(5)\n",
        "  print('end')\n",
        "\n",
        "long_running_function()"
      ],
      "metadata": {
        "id": "LMGleXaetpP6",
        "outputId": "39e9e5a9-e6ab-4474-96f5-fe55d0860d8e",
        "colab": {
          "base_uri": "https://localhost:8080/"
        }
      },
      "execution_count": 5,
      "outputs": [
        {
          "output_type": "stream",
          "name": "stdout",
          "text": [
            "end\n",
            "Время работы: 5.000828266143799 сек.\n"
          ]
        }
      ]
    },
    {
      "cell_type": "markdown",
      "source": [
        "---"
      ],
      "metadata": {
        "id": "Ag0rUJm-wIK1"
      }
    },
    {
      "cell_type": "markdown",
      "source": [
        "## **II. Итераторы и генераторы**"
      ],
      "metadata": {
        "id": "tu5ZanR_8j_R"
      }
    },
    {
      "cell_type": "markdown",
      "source": [
        "---\n",
        "\n",
        "### **Пункт №1. Генератор строк фиксированной длины**\n",
        "\n",
        "Напишите генератор `string_generator(char, times)`, который генерирует строки, состоящие из символа `char`, повторенного от 1 до `times` раз.\n",
        "\n",
        "```python\n",
        "# Пример использования:\n",
        "for s in string_generator('*', 5):\n",
        "    print(s)\n",
        "# Вывод:\n",
        "# *\n",
        "# **\n",
        "# ***\n",
        "# ****\n",
        "# *****\n",
        "```\n",
        "\n"
      ],
      "metadata": {
        "id": "7KQ8huR-8C_4"
      }
    },
    {
      "cell_type": "markdown",
      "source": [
        "---"
      ],
      "metadata": {
        "id": "ktfqCVPY-Mlx"
      }
    },
    {
      "cell_type": "code",
      "source": [
        "# Ваш код\n",
        "def string_generator(char: str, times: int) -> str:\n",
        "  '''\n",
        "  Генерирует строк, состоящие из введенного символа (char) от 1 до введенного кол-ва (int) раз\n",
        "  char - символ, который будет повторяться times раз\n",
        "  times - кол-во раз\n",
        "  '''\n",
        "  for i in range(1, times+1):\n",
        "    yield char * i\n",
        "\n",
        "\n",
        "for s in string_generator('*', 5):\n",
        "  print(s)"
      ],
      "metadata": {
        "id": "uvI-Ebqu98bW",
        "outputId": "c7ab4278-a739-4663-9391-234fe647bb04",
        "colab": {
          "base_uri": "https://localhost:8080/"
        }
      },
      "execution_count": null,
      "outputs": [
        {
          "output_type": "stream",
          "name": "stdout",
          "text": [
            "*\n",
            "**\n",
            "***\n",
            "****\n",
            "*****\n"
          ]
        }
      ]
    },
    {
      "cell_type": "markdown",
      "source": [
        "---\n",
        "\n",
        "### **Пункт №2. Генератор бесконечной последовательности**\n",
        "\n",
        "Создайте бесконечный генератор `infinite_sequence()`, который с каждым вызовом возвращает следующее число, начиная с 1.\n",
        "\n",
        "```python\n",
        "# Пример использования:\n",
        "gen = infinite_sequence()\n",
        "for _ in range(5):\n",
        "    print(next(gen))\n",
        "# Вывод:\n",
        "# 1\n",
        "# 2\n",
        "# 3\n",
        "# 4\n",
        "# 5\n",
        "```\n",
        "\n",
        "---"
      ],
      "metadata": {
        "id": "zDtiD8Rl9Oqu"
      }
    },
    {
      "cell_type": "code",
      "source": [
        "# Ваш код\n",
        "def infinite_sequence():\n",
        "  '''\n",
        "  Бесконечный генератор, который с каждым вызовом возвращает следующее число, начиная с 1\n",
        "  '''\n",
        "  i = 1\n",
        "  while True:\n",
        "    yield i\n",
        "    i += 1\n",
        "\n",
        "gen = infinite_sequence()\n",
        "for _ in range(5):\n",
        "  print(next(gen))"
      ],
      "metadata": {
        "id": "Yotj0YMK-Avy",
        "outputId": "1c2ba27b-b366-4b7f-887a-0df0ba33e2e2",
        "colab": {
          "base_uri": "https://localhost:8080/"
        }
      },
      "execution_count": null,
      "outputs": [
        {
          "output_type": "stream",
          "name": "stdout",
          "text": [
            "1\n",
            "2\n",
            "3\n",
            "4\n",
            "5\n"
          ]
        }
      ]
    },
    {
      "cell_type": "markdown",
      "source": [
        "---\n",
        "\n",
        "### **Пункт №3. Генератор комбинированных списков**\n",
        "\n",
        "Создайте генератор `combined_lists(lst1, lst2)`, который попеременно возвращает элементы из `lst1` и `lst2`. Если длины списков неравны, генератор должен остановиться при исчерпании более короткого списка.\n",
        "\n",
        "```python\n",
        "# Пример использования:\n",
        "for item in combined_lists([1, 2, 3], ['a', 'b', 'c', 'd']):\n",
        "    print(item)\n",
        "# Вывод:\n",
        "# 1\n",
        "# 'a'\n",
        "# 2\n",
        "# 'b'\n",
        "# 3\n",
        "# 'c'\n",
        "```"
      ],
      "metadata": {
        "id": "rJQEC1n19KHE"
      }
    },
    {
      "cell_type": "markdown",
      "source": [
        "---"
      ],
      "metadata": {
        "id": "1h8fsmju-LQh"
      }
    },
    {
      "cell_type": "code",
      "source": [
        "# Ваш код\n",
        "def combined_lists(lst1:list, lst2:list) -> any:\n",
        "  '''\n",
        "  Попеременно возвращает элементы из lst1 и lst2. Если их длины неравны,\n",
        "  останавливается при исчерпании более короткого списка\n",
        "  lst1 - первый список\n",
        "  lst2 - второй список\n",
        "  '''\n",
        "  i = 0\n",
        "  while i//2 != len(lst1) and i//2 != len(lst2):\n",
        "    if i % 2 == 0:\n",
        "      yield lst1[i//2]\n",
        "    else:\n",
        "      yield lst2[i//2]\n",
        "    i+=1\n",
        "\n",
        "\n",
        "for item in combined_lists([1, 2, 3], ['a', 'b', 'c', 'd']):\n",
        "  print(item)"
      ],
      "metadata": {
        "id": "_kcrlmgU-Bmz",
        "outputId": "683bf779-0d61-49a4-ec01-61b7f0bc0f53",
        "colab": {
          "base_uri": "https://localhost:8080/"
        }
      },
      "execution_count": null,
      "outputs": [
        {
          "output_type": "stream",
          "name": "stdout",
          "text": [
            "1\n",
            "a\n",
            "2\n",
            "b\n",
            "3\n",
            "c\n"
          ]
        }
      ]
    },
    {
      "cell_type": "markdown",
      "source": [
        "---\n",
        "\n",
        "### **Пункт №4. Генератор перевернутой строки**\n",
        "\n",
        "Напишите генератор `reverse_string(s)`, который при каждом вызове возвращает следующий символ строки `s` в обратном порядке.\n",
        "\n",
        "```python\n",
        "# Пример использования:\n",
        "for char in reverse_string('hello'):\n",
        "    print(char)\n",
        "# Вывод:\n",
        "# o\n",
        "# l\n",
        "# l\n",
        "# e\n",
        "# h\n",
        "```"
      ],
      "metadata": {
        "id": "CEXaNzJX9B1D"
      }
    },
    {
      "cell_type": "markdown",
      "source": [
        "---"
      ],
      "metadata": {
        "id": "L9WQ5Jpq-JaO"
      }
    },
    {
      "cell_type": "code",
      "source": [
        "# Ваш код\n",
        "def reverse_string(s:str)->str:\n",
        "  '''\n",
        "  Генератор, возвращающий при каждом вызове след. символ строки s в обратном порядке\n",
        "  s - исходная строка\n",
        "  '''\n",
        "  for i in s[::-1]:\n",
        "    yield i\n",
        "\n",
        "\n",
        "for char in reverse_string('hello'):\n",
        "  print(char)"
      ],
      "metadata": {
        "id": "5w9xT0eR-CBf",
        "outputId": "ba5faa74-5371-4a84-d2a4-27ced9ed7f29",
        "colab": {
          "base_uri": "https://localhost:8080/"
        }
      },
      "execution_count": 4,
      "outputs": [
        {
          "output_type": "stream",
          "name": "stdout",
          "text": [
            "o\n",
            "l\n",
            "l\n",
            "e\n",
            "h\n"
          ]
        }
      ]
    },
    {
      "cell_type": "markdown",
      "source": [
        "---\n",
        "\n",
        "### **Пункт №5. Генератор степеней двойки**\n",
        "\n",
        "Создайте генератор `powers_of_two(n)`, который возвращает степени двойки от 2^0 до 2^n.\n",
        "\n",
        "```python\n",
        "# Пример использования:\n",
        "for num in powers_of_two(5):\n",
        "    print(num)\n",
        "# Вывод:\n",
        "# 1  # 2^0\n",
        "# 2  # 2^1\n",
        "# 4  # 2^2\n",
        "# 8  # 2^3\n",
        "# 16 # 2^4\n",
        "# 32 # 2^5\n",
        "```\n",
        "\n",
        "---"
      ],
      "metadata": {
        "id": "GNykcs8D8-Je"
      }
    },
    {
      "cell_type": "code",
      "source": [
        "# Ваш код\n",
        "def powers_of_two(n:int)->int:\n",
        "  '''\n",
        "  Генератор, возвращающий степени двойки от 0 до n\n",
        "  n - степень, до которой должна считаться степень двойки\n",
        "  '''\n",
        "  i = 0\n",
        "  while i < n+1:\n",
        "    yield 2**i\n",
        "    i += 1\n",
        "\n",
        "\n",
        "for num in powers_of_two(5):\n",
        "  print(num)"
      ],
      "metadata": {
        "id": "LjNW3m-y-CXj",
        "outputId": "ed820e1a-8a99-4fe4-b55e-e89151684ada",
        "colab": {
          "base_uri": "https://localhost:8080/"
        }
      },
      "execution_count": null,
      "outputs": [
        {
          "output_type": "stream",
          "name": "stdout",
          "text": [
            "1\n",
            "2\n",
            "4\n",
            "8\n",
            "16\n",
            "32\n"
          ]
        }
      ]
    },
    {
      "cell_type": "markdown",
      "source": [
        "---"
      ],
      "metadata": {
        "id": "OU71icWn-Ggg"
      }
    },
    {
      "cell_type": "markdown",
      "source": [
        "### **Пункт №6. Генератор чисел из строки**\n",
        "\n",
        "Напишите генератор `number_extractor(s)`, который извлекает числа из заданной строки `s` и возвращает их как целые числа.\n",
        "\n",
        "```python\n",
        "# Пример использования:\n",
        "for num in number_extractor('abc123def45gh6'):\n",
        "    print(num)\n",
        "# Вывод:\n",
        "# 123\n",
        "# 45\n",
        "# 6\n",
        "```"
      ],
      "metadata": {
        "id": "w5gcNZCM829V"
      }
    },
    {
      "cell_type": "markdown",
      "source": [
        "---"
      ],
      "metadata": {
        "id": "oJt2kxt8-FUP"
      }
    },
    {
      "cell_type": "code",
      "source": [
        "# Ваш код\n",
        "def number_extractor(s:str)->int:\n",
        "  '''\n",
        "  Генератор, извлекающий числа из заданной строки s и возвращающий их как целые числа\n",
        "  s - строка, из которой нужно выписать числа\n",
        "  '''\n",
        "  flag = 0\n",
        "  while s != '':\n",
        "    if flag == 0:\n",
        "      result = ''\n",
        "    if s[0].isdigit():\n",
        "      flag = 1\n",
        "      result += s[0]\n",
        "      s = s[1:]\n",
        "    elif flag == 1 and not s[0].isdigit():\n",
        "      s = s[1:]\n",
        "      flag = 0\n",
        "      yield int(result)\n",
        "    else:\n",
        "      s = s[1:]\n",
        "      flag = 0\n",
        "  if flag == 1:\n",
        "    yield int(result)\n",
        "\n",
        "for num in number_extractor('abc123def45gh6'):\n",
        "  print (num)"
      ],
      "metadata": {
        "id": "zDYVvuBX-C9M",
        "outputId": "0561fe46-7658-48a0-9d92-414255e9cc9e",
        "colab": {
          "base_uri": "https://localhost:8080/"
        }
      },
      "execution_count": 1,
      "outputs": [
        {
          "output_type": "stream",
          "name": "stdout",
          "text": [
            "123\n",
            "45\n",
            "6\n"
          ]
        }
      ]
    },
    {
      "cell_type": "markdown",
      "source": [
        "---"
      ],
      "metadata": {
        "id": "h6ztzyUn-D5n"
      }
    }
  ]
}